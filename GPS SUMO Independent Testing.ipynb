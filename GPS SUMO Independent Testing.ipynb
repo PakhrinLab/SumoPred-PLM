{
 "cells": [
  {
   "cell_type": "code",
   "execution_count": 1,
   "id": "d91bb887",
   "metadata": {},
   "outputs": [],
   "source": [
    "import pandas as pd\n",
    "import numpy as np\n",
    "from sklearn.metrics import *\n",
    "import tensorflow as tf\n",
    "from tensorflow import keras\n",
    "import os\n",
    "import matplotlib.pyplot as plt"
   ]
  },
  {
   "cell_type": "code",
   "execution_count": 2,
   "id": "bc3b742a",
   "metadata": {},
   "outputs": [],
   "source": [
    "os.chdir(\"E:\\Blanco_Avesh\")"
   ]
  },
  {
   "cell_type": "code",
   "execution_count": 3,
   "id": "ebee8d05",
   "metadata": {},
   "outputs": [
    {
     "name": "stdout",
     "output_type": "stream",
     "text": [
      "1448\n",
      "(1448, 1024) (1448,)\n"
     ]
    }
   ],
   "source": [
    "import os\n",
    "import pandas as pd\n",
    "import numpy as np\n",
    "\n",
    "Header_name = [\"PID\",\"Position\",\"Lysine (K)\"]\n",
    "\n",
    "col_of_feature = [i for i in range(1,1025)]\n",
    "\n",
    "Header_name = Header_name + col_of_feature\n",
    "\n",
    "df_test = pd.read_csv(\"GPS_Testing_Prot_T5_feature.txt\", header=None)\n",
    "\n",
    "df_test.columns = Header_name\n",
    "\n",
    "test_lable = np.array([1]*71+[0]*1377)\n",
    "\n",
    "df_test_numpy = df_test.iloc[:,3:]\n",
    "test = np.array(df_test_numpy)\n",
    "\n",
    "y_independent = test_lable\n",
    "\n",
    "print(len(y_independent))\n",
    "\n",
    "X_independent = test\n",
    "\n",
    "print(X_independent.shape,y_independent.shape)\n",
    "\n",
    "X_independent = test"
   ]
  },
  {
   "cell_type": "code",
   "execution_count": 4,
   "id": "383cc8f6",
   "metadata": {},
   "outputs": [
    {
     "name": "stdout",
     "output_type": "stream",
     "text": [
      "46/46 [==============================] - 0s 669us/step\n",
      "\n",
      "Matthews Correlation :  0.375216768919829\n",
      "\n",
      "Confusion Matrix : \n",
      " [[1216  161]\n",
      " [  19   52]]\n",
      "\n",
      "Accuracy on test set:    0.8756906077348067\n",
      "\n",
      "\n",
      "Sensitivity:    0.7323943661971831 \t Specificity:    0.8830791575889615\n",
      "\n",
      "              precision    recall  f1-score   support\n",
      "\n",
      "           0       0.98      0.88      0.93      1377\n",
      "           1       0.24      0.73      0.37        71\n",
      "\n",
      "    accuracy                           0.88      1448\n",
      "   macro avg       0.61      0.81      0.65      1448\n",
      "weighted avg       0.95      0.88      0.90      1448\n",
      "\n"
     ]
    }
   ],
   "source": [
    "model_ANN_trained_GPS_TRAINING_DATA = tf.keras.models.load_model('GPS_SUMO_Independent_test'+str(82423)+\"____\"+str(13)+'.h5')\n",
    "\n",
    "Y_pred = model_ANN_trained_GPS_TRAINING_DATA.predict(X_independent)\n",
    "Y_pred = (Y_pred > 0.5)\n",
    "\n",
    "y_pred = np.ravel(Y_pred[:,1:])\n",
    "\n",
    "y_pred = y_pred.astype(int)\n",
    "\n",
    "\n",
    "confusion = confusion_matrix(y_independent,y_pred)\n",
    "print()\n",
    "print(\"Matthews Correlation : \",matthews_corrcoef(y_independent, y_pred))\n",
    "print()\n",
    "print(\"Confusion Matrix : \\n\",confusion_matrix(y_independent, y_pred))\n",
    "print()\n",
    "print(\"Accuracy on test set:   \",accuracy_score(y_independent, y_pred))\n",
    "print()\n",
    "\n",
    "cm = confusion_matrix(y_independent, y_pred)\n",
    "\n",
    "TP = cm[1][1]\n",
    "TN = cm[0][0]\n",
    "FP = cm[0][1]\n",
    "FN = cm[1][0]\n",
    "\n",
    "mcc = matthews_corrcoef(y_independent, y_pred)\n",
    "\n",
    "Sensitivity = TP/(TP+FN)\n",
    "\n",
    "Specificity = TN/(TN+FP)\n",
    "\n",
    "print()\n",
    "print(\"Sensitivity:   \",Sensitivity,\"\\t\",\"Specificity:   \",Specificity)\n",
    "print()\n",
    "print(classification_report(y_independent, y_pred))"
   ]
  },
  {
   "cell_type": "code",
   "execution_count": 5,
   "id": "8e8f7682",
   "metadata": {},
   "outputs": [
    {
     "name": "stdout",
     "output_type": "stream",
     "text": [
      "46/46 [==============================] - 0s 696us/step\n"
     ]
    },
    {
     "data": {
      "image/png": "[encoded data removed]",
      "text/plain": [
       "<Figure size 640x480 with 1 Axes>"
      ]
     },
     "metadata": {},
     "output_type": "display_data"
    }
   ],
   "source": [
    "%matplotlib inline\n",
    "ANN_model_Prob = model_ANN_trained_GPS_TRAINING_DATA.predict(X_independent)\n",
    "# keep probabilities for the positive outcome only\n",
    "ANN_model_Prob = ANN_model_Prob[:,1]\n",
    "\n",
    "ANN_model_Prob_auc = roc_auc_score(y_independent, ANN_model_Prob)\n",
    "\n",
    "# plot the roc curve for the model\n",
    "ns_probs = [0 for _ in range(len(ANN_model_Prob))]\n",
    "\n",
    "# calculate scores\n",
    "ns_auc = roc_auc_score(y_independent, ns_probs)\n",
    "ns_fpr, ns_tpr, _ = roc_curve(y_independent, ns_probs)\n",
    "\n",
    "ANN_model_fpr, ANN_model_tpr, _ = roc_curve(y_independent, ANN_model_Prob)\n",
    "\n",
    "plt.plot(ANN_model_fpr, ANN_model_tpr,  label='ANN (AUC = %0.3f)' % ANN_model_Prob_auc)\n",
    "\n",
    "plt.plot(ns_fpr, ns_tpr, linestyle='--', label='No Skill (AUC = %0.3f)' % ns_auc)\n",
    "\n",
    "# axis labels\n",
    "plt.xlabel('False Positive Rate')\n",
    "plt.ylabel('True Positive Rate')\n",
    "# show the legend\n",
    "plt.legend()\n",
    "# show the plot\n",
    "plt.savefig('GPS_SUMO_Sumoylation_ROC.png', dpi=350, bbox_inches='tight')\n",
    "plt.show()"
   ]
  }
 ],
 "metadata": {
  "kernelspec": {
   "display_name": "Python 3 (ipykernel)",
   "language": "python",
   "name": "python3"
  },
  "language_info": {
   "codemirror_mode": {
    "name": "ipython",
    "version": 3
   },
   "file_extension": ".py",
   "mimetype": "text/x-python",
   "name": "python",
   "nbconvert_exporter": "python",
   "pygments_lexer": "ipython3",
   "version": "3.10.9"
  }
 },
 "nbformat": 4,
 "nbformat_minor": 5
}
