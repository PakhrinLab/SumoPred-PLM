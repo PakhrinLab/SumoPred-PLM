{
 "cells": [
  {
   "cell_type": "code",
   "execution_count": 2,
   "metadata": {},
   "outputs": [
    {
     "name": "stderr",
     "output_type": "stream",
     "text": [
      "C:\\Users\\philp\\anaconda3\\lib\\site-packages\\numpy\\_distributor_init.py:30: UserWarning: loaded more than 1 DLL from .libs:\n",
      "C:\\Users\\philp\\anaconda3\\lib\\site-packages\\numpy\\.libs\\libopenblas.EL2C6PLE4ZYW3ECEVIV3OXXGRN2NRFM2.gfortran-win_amd64.dll\n",
      "C:\\Users\\philp\\anaconda3\\lib\\site-packages\\numpy\\.libs\\libopenblas.PYQHXLVVQ7VESDPUVUADXEVJOBGHJPAY.gfortran-win_amd64.dll\n",
      "  warnings.warn(\"loaded more than 1 DLL from .libs:\"\n"
     ]
    }
   ],
   "source": [
    "import numpy as np\n",
    "import pandas as pd\n",
    "from sklearn.metrics import *\n",
    "import tensorflow as tf"
   ]
  },
  {
   "cell_type": "markdown",
   "metadata": {},
   "source": [
    "# Load the Trained Model"
   ]
  },
  {
   "cell_type": "code",
   "execution_count": 3,
   "metadata": {},
   "outputs": [],
   "source": [
    "model = tf.keras.models.load_model('Subash_Chandra_Pakhrin5775457372.h5')"
   ]
  },
  {
   "cell_type": "code",
   "execution_count": 4,
   "metadata": {},
   "outputs": [],
   "source": [
    "SUMO_K_testing = pd.read_csv(\"P10275_K_Sites.csv\")\n",
    "df_Test_array = SUMO_K_testing.drop([\"Residue\"],axis=1)\n",
    "X_K = np.array(df_Test_array)"
   ]
  },
  {
   "cell_type": "code",
   "execution_count": 5,
   "metadata": {},
   "outputs": [
    {
     "data": {
      "text/plain": [
       "array([[ 0.14441939,  0.04095176,  0.05382959, ..., -0.074866  ,\n",
       "        -0.24128966, -0.03979328],\n",
       "       [ 0.07764458,  0.13274373,  0.06084621, ..., -0.45576471,\n",
       "        -0.03643605,  0.24705015],\n",
       "       [ 0.19638577,  0.16872777,  0.23998004, ..., -0.08566111,\n",
       "        -0.14095172,  0.05279933],\n",
       "       ...,\n",
       "       [-0.03246181,  0.16221558,  0.06321339, ..., -0.01082742,\n",
       "        -0.19033638, -0.19576654],\n",
       "       [-0.0720385 ,  0.16417389,  0.09541155, ..., -0.04959092,\n",
       "         0.06457598, -0.03902327],\n",
       "       [ 0.13198128,  0.33584067,  0.14383225, ..., -0.03256796,\n",
       "        -0.04410404, -0.03440906]])"
      ]
     },
     "execution_count": 5,
     "metadata": {},
     "output_type": "execute_result"
    }
   ],
   "source": [
    "X_K"
   ]
  },
  {
   "cell_type": "markdown",
   "metadata": {},
   "source": [
    "# Predict the SUMOylation or SUMO2/3 status of K residues\n",
    "# 1 indicates SUMOylated or SUMO2/3 residue\n",
    "# 0 indicates Non SUMOylated or Non SUMO2/3 residue"
   ]
  },
  {
   "cell_type": "code",
   "execution_count": null,
   "metadata": {},
   "outputs": [],
   "source": [
    "Y_pred = model.predict(X_K)\n",
    "Y_pred = (Y_pred > 0.5)\n",
    "y_pred = [np.argmax(y, axis=None, out=None) for y in Y_pred]\n",
    "y_pred = np.array(y_pred)\n",
    "y_pred "
   ]
  },
  {
   "cell_type": "code",
   "execution_count": null,
   "metadata": {},
   "outputs": [],
   "source": []
  }
 ],
 "metadata": {
  "kernelspec": {
   "display_name": "Python 3",
   "language": "python",
   "name": "python3"
  },
  "language_info": {
   "codemirror_mode": {
    "name": "ipython",
    "version": 3
   },
   "file_extension": ".py",
   "mimetype": "text/x-python",
   "name": "python",
   "nbconvert_exporter": "python",
   "pygments_lexer": "ipython3",
   "version": "3.8.5"
  }
 },
 "nbformat": 4,
 "nbformat_minor": 4
}
