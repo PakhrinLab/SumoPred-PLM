{
 "cells": [
  {
   "cell_type": "code",
   "execution_count": 1,
   "id": "bbff0303",
   "metadata": {},
   "outputs": [],
   "source": [
    "import os \n",
    "os.chdir('E:\\\\Blanco_Avesh')"
   ]
  },
  {
   "cell_type": "code",
   "execution_count": 2,
   "id": "81008a44",
   "metadata": {},
   "outputs": [],
   "source": [
    "import pandas as pd\n",
    "import numpy as np\n",
    "from sklearn.metrics import *\n",
    "import tensorflow as tf\n",
    "from tensorflow import keras"
   ]
  },
  {
   "cell_type": "markdown",
   "id": "1a8b2251",
   "metadata": {},
   "source": [
    "# Load The Independent Dataset"
   ]
  },
  {
   "cell_type": "code",
   "execution_count": 3,
   "id": "fa6e12ab",
   "metadata": {},
   "outputs": [],
   "source": [
    "fINAL_df = pd.read_csv(\"Final_independent_test_dataset_of_SUMOylation_PTM.csv\")\n",
    "\n",
    "fINAL_df = fINAL_df.drop([\"Unnamed: 0\"],axis=1)"
   ]
  },
  {
   "cell_type": "markdown",
   "id": "61709f1c",
   "metadata": {},
   "source": [
    "# Load the Trained Model"
   ]
  },
  {
   "cell_type": "code",
   "execution_count": 4,
   "id": "6a2c4db2",
   "metadata": {},
   "outputs": [],
   "source": [
    "model = tf.keras.models.load_model('Subash_Chandra_Pakhrin5775457372.h5')"
   ]
  },
  {
   "cell_type": "markdown",
   "id": "e7db9af0",
   "metadata": {},
   "source": [
    "# Check the Shape"
   ]
  },
  {
   "cell_type": "code",
   "execution_count": 5,
   "id": "121afa22",
   "metadata": {},
   "outputs": [
    {
     "name": "stdout",
     "output_type": "stream",
     "text": [
      "(5975, 1024) (5975,)\n"
     ]
    }
   ],
   "source": [
    "test = fINAL_df.iloc[:,:-4]\n",
    "\n",
    "X_independent = np.array(test)\n",
    "\n",
    "y_independent = np.array(fINAL_df[\"Label\"])\n",
    "\n",
    "print(X_independent.shape,y_independent.shape)"
   ]
  },
  {
   "cell_type": "markdown",
   "id": "baf65650",
   "metadata": {},
   "source": [
    "# Predict whether it is SUMOylated or Non-SUMOylated"
   ]
  },
  {
   "cell_type": "code",
   "execution_count": 6,
   "id": "ab2fbefd",
   "metadata": {},
   "outputs": [
    {
     "name": "stdout",
     "output_type": "stream",
     "text": [
      "187/187 [==============================] - 0s 653us/step\n",
      "\n",
      "Matthews Correlation :  0.4835170843680651\n",
      "\n",
      "Confusion Matrix : \n",
      " [[2220  767]\n",
      " [ 776 2212]]\n",
      "\n",
      "Accuracy on test set:    0.7417573221757322\n",
      "\n",
      "\n",
      "Sensitivity:    0.7402945113788487 \t Specificity:    0.7432206226983595\n",
      "\n",
      "              precision    recall  f1-score   support\n",
      "\n",
      "           0       0.74      0.74      0.74      2987\n",
      "           1       0.74      0.74      0.74      2988\n",
      "\n",
      "    accuracy                           0.74      5975\n",
      "   macro avg       0.74      0.74      0.74      5975\n",
      "weighted avg       0.74      0.74      0.74      5975\n",
      "\n"
     ]
    }
   ],
   "source": [
    "Y_pred = model.predict(X_independent)\n",
    "Y_pred = (Y_pred > 0.5)\n",
    "\n",
    "y_pred = np.ravel(Y_pred[:,1:])\n",
    "\n",
    "y_pred = y_pred.astype(int)\n",
    "\n",
    "confusion = confusion_matrix(y_independent,y_pred)\n",
    "print()\n",
    "print(\"Matthews Correlation : \",matthews_corrcoef(y_independent, y_pred))\n",
    "print()\n",
    "print(\"Confusion Matrix : \\n\",confusion_matrix(y_independent, y_pred))\n",
    "print()\n",
    "print(\"Accuracy on test set:   \",accuracy_score(y_independent, y_pred))\n",
    "print()\n",
    "\n",
    "\n",
    "cm = confusion_matrix(y_independent, y_pred)\n",
    "\n",
    "TP = cm[1][1]\n",
    "TN = cm[0][0]\n",
    "FP = cm[0][1]\n",
    "FN = cm[1][0]\n",
    "\n",
    "mcc = matthews_corrcoef(y_independent, y_pred)\n",
    "\n",
    "Sensitivity = TP/(TP+FN)\n",
    "\n",
    "Specificity = TN/(TN+FP)\n",
    "\n",
    "print()\n",
    "print(\"Sensitivity:   \",Sensitivity,\"\\t\",\"Specificity:   \",Specificity)\n",
    "print()\n",
    "print(classification_report(y_independent, y_pred))"
   ]
  },
  {
   "cell_type": "markdown",
   "id": "f38f29bc",
   "metadata": {},
   "source": [
    "# Thank You"
   ]
  }
 ],
 "metadata": {
  "kernelspec": {
   "display_name": "Python 3 (ipykernel)",
   "language": "python",
   "name": "python3"
  },
  "language_info": {
   "codemirror_mode": {
    "name": "ipython",
    "version": 3
   },
   "file_extension": ".py",
   "mimetype": "text/x-python",
   "name": "python",
   "nbconvert_exporter": "python",
   "pygments_lexer": "ipython3",
   "version": "3.10.9"
  }
 },
 "nbformat": 4,
 "nbformat_minor": 5
}
